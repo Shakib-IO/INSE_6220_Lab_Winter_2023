{
  "nbformat": 4,
  "nbformat_minor": 0,
  "metadata": {
    "colab": {
      "name": "TwoWay-ANOVA.ipynb",
      "provenance": [],
      "collapsed_sections": [],
      "authorship_tag": "ABX9TyMdojLufsTOspgbCLI6xXki",
      "include_colab_link": true
    },
    "kernelspec": {
      "name": "python3",
      "display_name": "Python 3"
    }
  },
  "cells": [
    {
      "cell_type": "markdown",
      "metadata": {
        "id": "view-in-github",
        "colab_type": "text"
      },
      "source": [
        "<a href=\"https://colab.research.google.com/github/myconcordia/INSE6220/blob/main/TwoWay_ANOVA.ipynb\" target=\"_parent\"><img src=\"https://colab.research.google.com/assets/colab-badge.svg\" alt=\"Open In Colab\"/></a>"
      ]
    },
    {
      "cell_type": "markdown",
      "metadata": {
        "id": "d1cYGd05Or4T"
      },
      "source": [
        "**Import Python Modules**"
      ]
    },
    {
      "cell_type": "code",
      "metadata": {
        "id": "rbhqOKzROGlk",
        "colab": {
          "base_uri": "https://localhost:8080/"
        },
        "outputId": "0afbca52-afc7-4541-92b6-a57e1b76b1c8"
      },
      "source": [
        "import numpy as np\n",
        "import statsmodels.api as sm\n",
        "from statsmodels.formula.api import ols\n",
        "import seaborn as sns\n",
        "import pandas as pd\n",
        "from scipy import stats\n",
        "from statsmodels.graphics.factorplots import interaction_plot\n",
        "import matplotlib.pyplot as plt"
      ],
      "execution_count": 1,
      "outputs": [
        {
          "output_type": "stream",
          "name": "stderr",
          "text": [
            "/usr/local/lib/python3.7/dist-packages/statsmodels/tools/_testing.py:19: FutureWarning: pandas.util.testing is deprecated. Use the functions in the public API at pandas.testing instead.\n",
            "  import pandas.util.testing as tm\n"
          ]
        }
      ]
    },
    {
      "cell_type": "markdown",
      "metadata": {
        "id": "HPHB5uxdO34a"
      },
      "source": [
        "Two-way ANOVA\n",
        "------------"
      ]
    },
    {
      "cell_type": "markdown",
      "metadata": {
        "id": "B0sFDNX-jpTI"
      },
      "source": [
        "**Example**\n",
        "\n",
        "Aircraft primer paints are applied to aluminum surfaces by two methods: dipping and spraying. The purpose of the primer is to improve paint adhesion; some parts can be primed using either application method. An engineer interested in learning whether three different primers differ in their adhesion properties performed a factorial experiment to investigate the\n",
        "effect of paint primer type and application method on paint adhesion. Three specimens were painted with each primer using each application method, a finish paint was applied, and the adhesion force was measured. The 18 runs from this experiment were run in random order.\n",
        "\n",
        "AM = Application Method and PT = Primer Type"
      ]
    },
    {
      "cell_type": "code",
      "metadata": {
        "colab": {
          "base_uri": "https://localhost:8080/",
          "height": 614
        },
        "id": "-mInSslFi8Nx",
        "outputId": "0f33f421-e8d0-48ff-d893-91b3ed5d486c"
      },
      "source": [
        "#FactorA = 3levels and FactorB = 2levels -> 3^2 = 9\n",
        "df = pd.DataFrame({'AM': np.repeat(['Dipping', 'Spraying'], 9),\n",
        "                   'PT': np.tile(np.repeat(['1', '2', '3'], 3), 2),\n",
        "                   'force': [4.0, 4.5, 4.3, \n",
        "                             5.6, 4.9, 5.4, \n",
        "                             3.8, 3.7, 4.0, \n",
        "                             5.4, 4.9, 5.6,\n",
        "                             5.8, 6.1, 6.3,\n",
        "                             5.5, 5.0, 5.0]})\n",
        "#Display the dataframe\n",
        "df"
      ],
      "execution_count": 17,
      "outputs": [
        {
          "output_type": "execute_result",
          "data": {
            "text/html": [
              "<div>\n",
              "<style scoped>\n",
              "    .dataframe tbody tr th:only-of-type {\n",
              "        vertical-align: middle;\n",
              "    }\n",
              "\n",
              "    .dataframe tbody tr th {\n",
              "        vertical-align: top;\n",
              "    }\n",
              "\n",
              "    .dataframe thead th {\n",
              "        text-align: right;\n",
              "    }\n",
              "</style>\n",
              "<table border=\"1\" class=\"dataframe\">\n",
              "  <thead>\n",
              "    <tr style=\"text-align: right;\">\n",
              "      <th></th>\n",
              "      <th>AM</th>\n",
              "      <th>PT</th>\n",
              "      <th>force</th>\n",
              "    </tr>\n",
              "  </thead>\n",
              "  <tbody>\n",
              "    <tr>\n",
              "      <th>0</th>\n",
              "      <td>Dipping</td>\n",
              "      <td>1</td>\n",
              "      <td>4.0</td>\n",
              "    </tr>\n",
              "    <tr>\n",
              "      <th>1</th>\n",
              "      <td>Dipping</td>\n",
              "      <td>1</td>\n",
              "      <td>4.5</td>\n",
              "    </tr>\n",
              "    <tr>\n",
              "      <th>2</th>\n",
              "      <td>Dipping</td>\n",
              "      <td>1</td>\n",
              "      <td>4.3</td>\n",
              "    </tr>\n",
              "    <tr>\n",
              "      <th>3</th>\n",
              "      <td>Dipping</td>\n",
              "      <td>2</td>\n",
              "      <td>5.6</td>\n",
              "    </tr>\n",
              "    <tr>\n",
              "      <th>4</th>\n",
              "      <td>Dipping</td>\n",
              "      <td>2</td>\n",
              "      <td>4.9</td>\n",
              "    </tr>\n",
              "    <tr>\n",
              "      <th>5</th>\n",
              "      <td>Dipping</td>\n",
              "      <td>2</td>\n",
              "      <td>5.4</td>\n",
              "    </tr>\n",
              "    <tr>\n",
              "      <th>6</th>\n",
              "      <td>Dipping</td>\n",
              "      <td>3</td>\n",
              "      <td>3.8</td>\n",
              "    </tr>\n",
              "    <tr>\n",
              "      <th>7</th>\n",
              "      <td>Dipping</td>\n",
              "      <td>3</td>\n",
              "      <td>3.7</td>\n",
              "    </tr>\n",
              "    <tr>\n",
              "      <th>8</th>\n",
              "      <td>Dipping</td>\n",
              "      <td>3</td>\n",
              "      <td>4.0</td>\n",
              "    </tr>\n",
              "    <tr>\n",
              "      <th>9</th>\n",
              "      <td>Spraying</td>\n",
              "      <td>1</td>\n",
              "      <td>5.4</td>\n",
              "    </tr>\n",
              "    <tr>\n",
              "      <th>10</th>\n",
              "      <td>Spraying</td>\n",
              "      <td>1</td>\n",
              "      <td>4.9</td>\n",
              "    </tr>\n",
              "    <tr>\n",
              "      <th>11</th>\n",
              "      <td>Spraying</td>\n",
              "      <td>1</td>\n",
              "      <td>5.6</td>\n",
              "    </tr>\n",
              "    <tr>\n",
              "      <th>12</th>\n",
              "      <td>Spraying</td>\n",
              "      <td>2</td>\n",
              "      <td>5.8</td>\n",
              "    </tr>\n",
              "    <tr>\n",
              "      <th>13</th>\n",
              "      <td>Spraying</td>\n",
              "      <td>2</td>\n",
              "      <td>6.1</td>\n",
              "    </tr>\n",
              "    <tr>\n",
              "      <th>14</th>\n",
              "      <td>Spraying</td>\n",
              "      <td>2</td>\n",
              "      <td>6.3</td>\n",
              "    </tr>\n",
              "    <tr>\n",
              "      <th>15</th>\n",
              "      <td>Spraying</td>\n",
              "      <td>3</td>\n",
              "      <td>5.5</td>\n",
              "    </tr>\n",
              "    <tr>\n",
              "      <th>16</th>\n",
              "      <td>Spraying</td>\n",
              "      <td>3</td>\n",
              "      <td>5.0</td>\n",
              "    </tr>\n",
              "    <tr>\n",
              "      <th>17</th>\n",
              "      <td>Spraying</td>\n",
              "      <td>3</td>\n",
              "      <td>5.0</td>\n",
              "    </tr>\n",
              "  </tbody>\n",
              "</table>\n",
              "</div>"
            ],
            "text/plain": [
              "          AM PT  force\n",
              "0    Dipping  1    4.0\n",
              "1    Dipping  1    4.5\n",
              "2    Dipping  1    4.3\n",
              "3    Dipping  2    5.6\n",
              "4    Dipping  2    4.9\n",
              "5    Dipping  2    5.4\n",
              "6    Dipping  3    3.8\n",
              "7    Dipping  3    3.7\n",
              "8    Dipping  3    4.0\n",
              "9   Spraying  1    5.4\n",
              "10  Spraying  1    4.9\n",
              "11  Spraying  1    5.6\n",
              "12  Spraying  2    5.8\n",
              "13  Spraying  2    6.1\n",
              "14  Spraying  2    6.3\n",
              "15  Spraying  3    5.5\n",
              "16  Spraying  3    5.0\n",
              "17  Spraying  3    5.0"
            ]
          },
          "metadata": {},
          "execution_count": 17
        }
      ]
    },
    {
      "cell_type": "markdown",
      "metadata": {
        "id": "bbSvVrCykHWI"
      },
      "source": [
        "**Perform two-way ANOVA**"
      ]
    },
    {
      "cell_type": "code",
      "metadata": {
        "colab": {
          "base_uri": "https://localhost:8080/",
          "height": 175
        },
        "id": "6iD51QvbjILh",
        "outputId": "a4fc2a6c-193c-49ad-df99-c93d52847510"
      },
      "source": [
        "model = ols('force ~ C(PT) + C(AM) + C(PT):C(AM)', data=df).fit()\n",
        "sm.stats.anova_lm(model, typ=2)"
      ],
      "execution_count": 18,
      "outputs": [
        {
          "output_type": "execute_result",
          "data": {
            "text/html": [
              "<div>\n",
              "<style scoped>\n",
              "    .dataframe tbody tr th:only-of-type {\n",
              "        vertical-align: middle;\n",
              "    }\n",
              "\n",
              "    .dataframe tbody tr th {\n",
              "        vertical-align: top;\n",
              "    }\n",
              "\n",
              "    .dataframe thead th {\n",
              "        text-align: right;\n",
              "    }\n",
              "</style>\n",
              "<table border=\"1\" class=\"dataframe\">\n",
              "  <thead>\n",
              "    <tr style=\"text-align: right;\">\n",
              "      <th></th>\n",
              "      <th>sum_sq</th>\n",
              "      <th>df</th>\n",
              "      <th>F</th>\n",
              "      <th>PR(&gt;F)</th>\n",
              "    </tr>\n",
              "  </thead>\n",
              "  <tbody>\n",
              "    <tr>\n",
              "      <th>C(PT)</th>\n",
              "      <td>4.581111</td>\n",
              "      <td>2.0</td>\n",
              "      <td>27.858108</td>\n",
              "      <td>0.000031</td>\n",
              "    </tr>\n",
              "    <tr>\n",
              "      <th>C(AM)</th>\n",
              "      <td>4.908889</td>\n",
              "      <td>1.0</td>\n",
              "      <td>59.702703</td>\n",
              "      <td>0.000005</td>\n",
              "    </tr>\n",
              "    <tr>\n",
              "      <th>C(PT):C(AM)</th>\n",
              "      <td>0.241111</td>\n",
              "      <td>2.0</td>\n",
              "      <td>1.466216</td>\n",
              "      <td>0.269342</td>\n",
              "    </tr>\n",
              "    <tr>\n",
              "      <th>Residual</th>\n",
              "      <td>0.986667</td>\n",
              "      <td>12.0</td>\n",
              "      <td>NaN</td>\n",
              "      <td>NaN</td>\n",
              "    </tr>\n",
              "  </tbody>\n",
              "</table>\n",
              "</div>"
            ],
            "text/plain": [
              "               sum_sq    df          F    PR(>F)\n",
              "C(PT)        4.581111   2.0  27.858108  0.000031\n",
              "C(AM)        4.908889   1.0  59.702703  0.000005\n",
              "C(PT):C(AM)  0.241111   2.0   1.466216  0.269342\n",
              "Residual     0.986667  12.0        NaN       NaN"
            ]
          },
          "metadata": {},
          "execution_count": 18
        }
      ]
    },
    {
      "cell_type": "markdown",
      "metadata": {
        "id": "sJAAnMSNkk3w"
      },
      "source": [
        "We can see the following p-values for each of the factors in the table:\n",
        "\n",
        "PT: p-value = 0.000031\n",
        "\n",
        "AM: p-value = 0.000005\n",
        "\n",
        "PT*AM: p-value = 0.269342\n",
        "\n",
        "Since the p-values for PT and AM are both less than .05, this means that both factors have a statistically significant effect on adhesion force.\n",
        "\n",
        "And since the p-value for the interaction effect (0.269342) is not less than .05, this tells us that there is no significant interaction effect between Primer Type and Application Method."
      ]
    },
    {
      "cell_type": "markdown",
      "metadata": {
        "id": "zGjV9f5mo7rW"
      },
      "source": [
        "**View Model Summary**"
      ]
    },
    {
      "cell_type": "code",
      "metadata": {
        "colab": {
          "base_uri": "https://localhost:8080/"
        },
        "id": "yGhrG-0prQZV",
        "outputId": "0198d4f6-d98d-490c-8d0b-9c55e84dc799"
      },
      "source": [
        "print(model.summary())"
      ],
      "execution_count": 19,
      "outputs": [
        {
          "output_type": "stream",
          "name": "stdout",
          "text": [
            "                            OLS Regression Results                            \n",
            "==============================================================================\n",
            "Dep. Variable:                  force   R-squared:                       0.908\n",
            "Model:                            OLS   Adj. R-squared:                  0.870\n",
            "Method:                 Least Squares   F-statistic:                     23.67\n",
            "Date:                Mon, 22 Nov 2021   Prob (F-statistic):           7.89e-06\n",
            "Time:                        15:03:30   Log-Likelihood:                0.59326\n",
            "No. Observations:                  18   AIC:                             10.81\n",
            "Df Residuals:                      12   BIC:                             16.16\n",
            "Df Model:                           5                                         \n",
            "Covariance Type:            nonrobust                                         \n",
            "================================================================================================\n",
            "                                   coef    std err          t      P>|t|      [0.025      0.975]\n",
            "------------------------------------------------------------------------------------------------\n",
            "Intercept                        4.2667      0.166     25.772      0.000       3.906       4.627\n",
            "C(PT)[T.2]                       1.0333      0.234      4.414      0.001       0.523       1.543\n",
            "C(PT)[T.3]                      -0.4333      0.234     -1.851      0.089      -0.943       0.077\n",
            "C(AM)[T.Spraying]                1.0333      0.234      4.414      0.001       0.523       1.543\n",
            "C(PT)[T.2]:C(AM)[T.Spraying]    -0.2667      0.331     -0.805      0.436      -0.988       0.455\n",
            "C(PT)[T.3]:C(AM)[T.Spraying]     0.3000      0.331      0.906      0.383      -0.421       1.021\n",
            "==============================================================================\n",
            "Omnibus:                        2.455   Durbin-Watson:                   2.711\n",
            "Prob(Omnibus):                  0.293   Jarque-Bera (JB):                1.205\n",
            "Skew:                          -0.236   Prob(JB):                        0.548\n",
            "Kurtosis:                       1.824   Cond. No.                         9.77\n",
            "==============================================================================\n",
            "\n",
            "Warnings:\n",
            "[1] Standard Errors assume that the covariance matrix of the errors is correctly specified.\n"
          ]
        },
        {
          "output_type": "stream",
          "name": "stderr",
          "text": [
            "/usr/local/lib/python3.7/dist-packages/scipy/stats/stats.py:1535: UserWarning: kurtosistest only valid for n>=20 ... continuing anyway, n=18\n",
            "  \"anyway, n=%i\" % int(n))\n"
          ]
        }
      ]
    },
    {
      "cell_type": "markdown",
      "metadata": {
        "id": "Dw_jCpZfm884"
      },
      "source": [
        "**Interaction Plot**\n",
        "\n",
        "The interaction plot helps visualize the means of the response of the two factors Primer Type (PT) and Application Method (AM). Generally, the X-axis should have a factor with more levels. Roughly parallel factor lines indicate no interaction. For a more reliable conclusion of the interaction plot, it should be verified with the F-test for interaction."
      ]
    },
    {
      "cell_type": "code",
      "metadata": {
        "colab": {
          "base_uri": "https://localhost:8080/",
          "height": 279
        },
        "id": "uq1btfSvnAAm",
        "outputId": "89157e33-3c50-4c1b-8660-6d0e98579e33"
      },
      "source": [
        "fig = interaction_plot(x= df.PT, trace = df.AM, response = df.force, colors=['red','blue'], markers=['8','s'], ms=10)"
      ],
      "execution_count": 55,
      "outputs": [
        {
          "output_type": "display_data",
          "data": {
            "image/png": "[encoded data removed]",
            "text/plain": [
              "<Figure size 432x288 with 1 Axes>"
            ]
          },
          "metadata": {
            "needs_background": "light"
          }
        }
      ]
    },
    {
      "cell_type": "markdown",
      "metadata": {
        "id": "L2vWvepVjcxC"
      },
      "source": [
        "**Boxplot**\n",
        "\n",
        "Generate a boxplot to see the data distribution by Primer Type (PT) and Application Method (AM). As there are 3 and 2 levels for PT and AM, respectively, this is a 3 x 2 factorial design yielding 6 unique combinations for measurement of the response variable. Using boxplot, we can easily detect the differences between different groups."
      ]
    },
    {
      "cell_type": "code",
      "metadata": {
        "colab": {
          "base_uri": "https://localhost:8080/",
          "height": 296
        },
        "id": "fxosFy93lTmw",
        "outputId": "3fa66d2b-7ecf-4386-c44f-7e86cd7a253c"
      },
      "source": [
        "sns.boxplot(x=\"PT\", y=\"force\", hue=\"AM\", data=df, palette=\"Set3\") "
      ],
      "execution_count": null,
      "outputs": [
        {
          "output_type": "execute_result",
          "data": {
            "text/plain": [
              "<matplotlib.axes._subplots.AxesSubplot at 0x7f3944e7a190>"
            ]
          },
          "metadata": {},
          "execution_count": 58
        },
        {
          "output_type": "display_data",
          "data": {
            "image/png": "[encoded data removed]",
            "text/plain": [
              "<Figure size 432x288 with 1 Axes>"
            ]
          },
          "metadata": {
            "needs_background": "light"
          }
        }
      ]
    },
    {
      "cell_type": "code",
      "metadata": {
        "colab": {
          "base_uri": "https://localhost:8080/",
          "height": 296
        },
        "id": "S0cf9nDnMcQj",
        "outputId": "89451ec1-0a92-463f-f93f-07c32c5785f1"
      },
      "source": [
        "sns.boxplot(x=\"AM\", y=\"force\", hue=\"PT\", data=df, palette=\"Set3\") "
      ],
      "execution_count": 21,
      "outputs": [
        {
          "output_type": "execute_result",
          "data": {
            "text/plain": [
              "<matplotlib.axes._subplots.AxesSubplot at 0x7fe5b54c5b50>"
            ]
          },
          "metadata": {},
          "execution_count": 21
        },
        {
          "output_type": "display_data",
          "data": {
            "image/png": "[encoded data removed]",
            "text/plain": [
              "<Figure size 432x288 with 1 Axes>"
            ]
          },
          "metadata": {
            "needs_background": "light"
          }
        }
      ]
    },
    {
      "cell_type": "markdown",
      "metadata": {
        "id": "M8u6S3KalrJw"
      },
      "source": [
        "**Residual Analysis**"
      ]
    },
    {
      "cell_type": "code",
      "metadata": {
        "colab": {
          "base_uri": "https://localhost:8080/",
          "height": 625
        },
        "id": "-csuxt5_ltV_",
        "outputId": "874c9193-26f4-420d-e673-3854ee563369"
      },
      "source": [
        "residuals = model.resid \n",
        "print(residuals)\n",
        "\n",
        "#Display normal probability plot\n",
        "stats.probplot(residuals, plot=plt)\n",
        "plt.grid(True)"
      ],
      "execution_count": 23,
      "outputs": [
        {
          "output_type": "stream",
          "name": "stdout",
          "text": [
            "0    -0.266667\n",
            "1     0.233333\n",
            "2     0.033333\n",
            "3     0.300000\n",
            "4    -0.400000\n",
            "5     0.100000\n",
            "6    -0.033333\n",
            "7    -0.133333\n",
            "8     0.166667\n",
            "9     0.100000\n",
            "10   -0.400000\n",
            "11    0.300000\n",
            "12   -0.266667\n",
            "13    0.033333\n",
            "14    0.233333\n",
            "15    0.333333\n",
            "16   -0.166667\n",
            "17   -0.166667\n",
            "dtype: float64\n"
          ]
        },
        {
          "output_type": "display_data",
          "data": {
            "image/png": "[encoded data removed]",
            "text/plain": [
              "<Figure size 432x288 with 1 Axes>"
            ]
          },
          "metadata": {
            "needs_background": "light"
          }
        }
      ]
    },
    {
      "cell_type": "markdown",
      "metadata": {
        "id": "NcL96070QZx-"
      },
      "source": [
        "**Residuals Plots**"
      ]
    },
    {
      "cell_type": "code",
      "metadata": {
        "colab": {
          "base_uri": "https://localhost:8080/",
          "height": 265
        },
        "id": "Ns-ay4hxPTXy",
        "outputId": "0e1b3b41-2f12-41fe-8094-7fc2448c6bb1"
      },
      "source": [
        "plt.scatter(df.AM, residuals, c='g', s = 40)\n",
        "plt.hlines(y=0, xmin=-.1, xmax=1.1, colors =\"r\", linewidth=2)\n",
        "plt.gca().set_xlim(left=-.1, right=1.1);"
      ],
      "execution_count": 53,
      "outputs": [
        {
          "output_type": "display_data",
          "data": {
            "image/png": "[encoded data removed]",
            "text/plain": [
              "<Figure size 432x288 with 1 Axes>"
            ]
          },
          "metadata": {
            "needs_background": "light"
          }
        }
      ]
    },
    {
      "cell_type": "code",
      "metadata": {
        "colab": {
          "base_uri": "https://localhost:8080/",
          "height": 265
        },
        "id": "PVxJoT8sQLlI",
        "outputId": "37b0f41a-a929-4720-c4f7-a2207ece0f81"
      },
      "source": [
        "plt.scatter(df.PT, residuals, c='g', s = 40)\n",
        "plt.hlines(y=0, xmin=-.1, xmax=2.1, colors =\"r\", linewidth=2)\n",
        "plt.gca().set_xlim(left=-.1, right=2.1);"
      ],
      "execution_count": 50,
      "outputs": [
        {
          "output_type": "display_data",
          "data": {
            "image/png": "[encoded data removed]",
            "text/plain": [
              "<Figure size 432x288 with 1 Axes>"
            ]
          },
          "metadata": {
            "needs_background": "light"
          }
        }
      ]
    }
  ]
}