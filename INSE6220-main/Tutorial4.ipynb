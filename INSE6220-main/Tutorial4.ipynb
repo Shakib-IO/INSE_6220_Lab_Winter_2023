{
  "nbformat": 4,
  "nbformat_minor": 0,
  "metadata": {
    "colab": {
      "name": "Tutorial4.ipynb",
      "provenance": [],
      "collapsed_sections": [],
      "authorship_tag": "ABX9TyNfGRWcHcNL5e0FUDlMU+Sy",
      "include_colab_link": true
    },
    "kernelspec": {
      "name": "python3",
      "display_name": "Python 3"
    }
  },
  "cells": [
    {
      "cell_type": "markdown",
      "metadata": {
        "id": "view-in-github",
        "colab_type": "text"
      },
      "source": [
        "<a href=\"https://colab.research.google.com/github/myconcordia/INSE6220/blob/main/Tutorial4.ipynb\" target=\"_parent\"><img src=\"https://colab.research.google.com/assets/colab-badge.svg\" alt=\"Open In Colab\"/></a>"
      ]
    },
    {
      "cell_type": "markdown",
      "metadata": {
        "id": "d1cYGd05Or4T"
      },
      "source": [
        "**Import Python Modules**"
      ]
    },
    {
      "cell_type": "code",
      "metadata": {
        "id": "rbhqOKzROGlk",
        "colab": {
          "base_uri": "https://localhost:8080/"
        },
        "outputId": "e2b715ad-1699-40ed-908c-6d3436cd9f1b"
      },
      "source": [
        "import numpy as np\n",
        "import matplotlib.pyplot as plt\n",
        "from scipy import stats\n",
        "from statsmodels.formula.api import ols\n",
        "from statsmodels.stats.anova import anova_lm\n",
        "import pandas as pd\n",
        "import seaborn as sns"
      ],
      "execution_count": 2,
      "outputs": [
        {
          "output_type": "stream",
          "text": [
            "/usr/local/lib/python3.7/dist-packages/statsmodels/tools/_testing.py:19: FutureWarning: pandas.util.testing is deprecated. Use the functions in the public API at pandas.testing instead.\n",
            "  import pandas.util.testing as tm\n"
          ],
          "name": "stderr"
        }
      ]
    },
    {
      "cell_type": "markdown",
      "metadata": {
        "id": "HPHB5uxdO34a"
      },
      "source": [
        "Linear Regression\n",
        "------------\n",
        "**Using stats.linregress**"
      ]
    },
    {
      "cell_type": "code",
      "metadata": {
        "colab": {
          "base_uri": "https://localhost:8080/"
        },
        "id": "vpY1eRNocFS3",
        "outputId": "33c27d4d-5cb0-461a-d383-64854ae9d0c0"
      },
      "source": [
        "X = np.array([419, 239, 279, 430, 669, 399, 598, 339, 395, 294, 295, 575, 228, 170, 349])\n",
        "y = np.array([400, 200, 265, 399, 671, 393, 580, 315, 363, 290, 277, 520, 223, 165, 342])\n",
        "beta1hat, beta0hat, r_value, p_value, std_err = stats.linregress(X, y)\n",
        "print('beta0hat = {0:.2f}, beta1hat = {1:.2f}'.format(beta0hat, beta1hat))\n",
        "print('r_value = {0:.3f}, r_squared = {1:.3f}'.format(r_value, r_value**2))"
      ],
      "execution_count": 3,
      "outputs": [
        {
          "output_type": "stream",
          "text": [
            "beta0hat = -11.03, beta1hat = 0.98\n",
            "r_value = 0.994, r_squared = 0.988\n"
          ],
          "name": "stdout"
        }
      ]
    },
    {
      "cell_type": "code",
      "metadata": {
        "colab": {
          "base_uri": "https://localhost:8080/",
          "height": 279
        },
        "id": "dNjjHEcXcKKG",
        "outputId": "5164684d-5d56-4689-eaed-dde7d1e33175"
      },
      "source": [
        "plt.plot(X, y, 'o', label='original data')\n",
        "plt.plot(X, beta0hat + beta1hat*X, 'r', label='fitted line')\n",
        "plt.xlabel('Asking price')\n",
        "plt.ylabel('Selling price')\n",
        "plt.legend()\n",
        "plt.show()"
      ],
      "execution_count": 4,
      "outputs": [
        {
          "output_type": "display_data",
          "data": {
            "image/png": "[encoded data removed]",
            "text/plain": [
              "<Figure size 432x288 with 1 Axes>"
            ]
          },
          "metadata": {
            "tags": [],
            "needs_background": "light"
          }
        }
      ]
    },
    {
      "cell_type": "markdown",
      "metadata": {
        "id": "xjwFb6iVcPqD"
      },
      "source": [
        "**Using pandas & ols**"
      ]
    },
    {
      "cell_type": "code",
      "metadata": {
        "colab": {
          "base_uri": "https://localhost:8080/",
          "height": 1000
        },
        "id": "VA2TeBNZcSyz",
        "outputId": "0d29d635-2242-4e03-fa06-730174c721e4"
      },
      "source": [
        "data = np.column_stack((X, y))\n",
        "df = pd.DataFrame(data, columns=['Asking price', 'Selling price'])\n",
        "df.describe()\n",
        "sns.jointplot(x='Asking price',y='Selling price',data=df)\n",
        "sns.pairplot(df)\n",
        "#Create a linear model plot Selling price vs Asking price\n",
        "#sns.lmplot(x='Asking price',y='Selling price',data=df)\n",
        "plt.figure()\n",
        "sns.regplot(x='Asking price',y='Selling price', data=df, fit_reg=True)\n",
        "\n",
        "# Fit the model\n",
        "formula = 'y ~ X'\n",
        "model = ols(formula, df).fit()\n",
        "# Print the summary\n",
        "print(model.summary())"
      ],
      "execution_count": 5,
      "outputs": [
        {
          "output_type": "stream",
          "text": [
            "/usr/local/lib/python3.7/dist-packages/scipy/stats/stats.py:1535: UserWarning: kurtosistest only valid for n>=20 ... continuing anyway, n=15\n",
            "  \"anyway, n=%i\" % int(n))\n"
          ],
          "name": "stderr"
        },
        {
          "output_type": "stream",
          "text": [
            "                            OLS Regression Results                            \n",
            "==============================================================================\n",
            "Dep. Variable:                      y   R-squared:                       0.988\n",
            "Model:                            OLS   Adj. R-squared:                  0.987\n",
            "Method:                 Least Squares   F-statistic:                     1086.\n",
            "Date:                Fri, 16 Apr 2021   Prob (F-statistic):           6.50e-14\n",
            "Time:                        02:10:32   Log-Likelihood:                -61.777\n",
            "No. Observations:                  15   AIC:                             127.6\n",
            "Df Residuals:                      13   BIC:                             129.0\n",
            "Df Model:                           1                                         \n",
            "Covariance Type:            nonrobust                                         \n",
            "==============================================================================\n",
            "                 coef    std err          t      P>|t|      [0.025      0.975]\n",
            "------------------------------------------------------------------------------\n",
            "Intercept    -11.0287     11.996     -0.919      0.375     -36.945      14.888\n",
            "X              0.9807      0.030     32.954      0.000       0.916       1.045\n",
            "==============================================================================\n",
            "Omnibus:                        1.450   Durbin-Watson:                   2.106\n",
            "Prob(Omnibus):                  0.484   Jarque-Bera (JB):                0.810\n",
            "Skew:                          -0.560   Prob(JB):                        0.667\n",
            "Kurtosis:                       2.801   Cond. No.                     1.17e+03\n",
            "==============================================================================\n",
            "\n",
            "Warnings:\n",
            "[1] Standard Errors assume that the covariance matrix of the errors is correctly specified.\n",
            "[2] The condition number is large, 1.17e+03. This might indicate that there are\n",
            "strong multicollinearity or other numerical problems.\n"
          ],
          "name": "stdout"
        },
        {
          "output_type": "display_data",
          "data": {
            "image/png": "[encoded data removed]",
            "text/plain": [
              "<Figure size 432x432 with 3 Axes>"
            ]
          },
          "metadata": {
            "tags": [],
            "needs_background": "light"
          }
        },
        {
          "output_type": "display_data",
          "data": {
            "image/png": "[encoded data removed]",
            "text/plain": [
              "<Figure size 360x360 with 6 Axes>"
            ]
          },
          "metadata": {
            "tags": [],
            "needs_background": "light"
          }
        },
        {
          "output_type": "display_data",
          "data": {
            "image/png": "[encoded data removed]",
            "text/plain": [
              "<Figure size 432x288 with 1 Axes>"
            ]
          },
          "metadata": {
            "tags": [],
            "needs_background": "light"
          }
        }
      ]
    },
    {
      "cell_type": "markdown",
      "metadata": {
        "id": "Ue5n7USKcep_"
      },
      "source": [
        "**Peform analysis of variance on fitted linear model**"
      ]
    },
    {
      "cell_type": "code",
      "metadata": {
        "colab": {
          "base_uri": "https://localhost:8080/"
        },
        "id": "0oG6GoE0ch7e",
        "outputId": "bf32be71-54e2-41ed-c75f-e15a61fa5f53"
      },
      "source": [
        "table = anova_lm(model)\n",
        "print('\\nANOVA table')\n",
        "print(table)"
      ],
      "execution_count": 6,
      "outputs": [
        {
          "output_type": "stream",
          "text": [
            "\n",
            "ANOVA table\n",
            "            df         sum_sq        mean_sq            F        PR(>F)\n",
            "X          1.0  277178.384852  277178.384852  1085.986303  6.501966e-14\n",
            "Residual  13.0    3318.015148     255.231934          NaN           NaN\n"
          ],
          "name": "stdout"
        }
      ]
    },
    {
      "cell_type": "markdown",
      "metadata": {
        "id": "90E-DMW0cmzN"
      },
      "source": [
        "**Hypothesis testing**"
      ]
    },
    {
      "cell_type": "code",
      "metadata": {
        "colab": {
          "base_uri": "https://localhost:8080/"
        },
        "id": "qJAvfkZrcoml",
        "outputId": "f89f9bf6-7bec-4607-877d-e9a7eb145c8a"
      },
      "source": [
        "f0 = 1085.98\n",
        "n = len(X)\n",
        "alpha = 0.05\n",
        "#ppf (Percent point function)\n",
        "f_alpha = stats.f.ppf(1-alpha, 1, n-2)\n",
        "print('alpha = {0:.2f}, f_alpha = {1:.2f}'.format(alpha, f_alpha))"
      ],
      "execution_count": 7,
      "outputs": [
        {
          "output_type": "stream",
          "text": [
            "alpha = 0.05, f_alpha = 4.67\n"
          ],
          "name": "stdout"
        }
      ]
    },
    {
      "cell_type": "markdown",
      "metadata": {
        "id": "068LDfqycrvt"
      },
      "source": [
        "**Retrieve the parameter estimates**"
      ]
    },
    {
      "cell_type": "code",
      "metadata": {
        "colab": {
          "base_uri": "https://localhost:8080/",
          "height": 279
        },
        "id": "vMcGDkd9cuLV",
        "outputId": "39c5b57f-6f87-4ae0-fdac-065a4d5bc52f"
      },
      "source": [
        "beta0, beta1 = model._results.params\n",
        "plt.figure()\n",
        "plt.plot(X, y, 'o')\n",
        "yhat = beta0 + X*beta1\n",
        "plt.plot(X, yhat)\n",
        "plt.xlabel('X')\n",
        "plt.ylabel('y')\n",
        "plt.show()"
      ],
      "execution_count": 8,
      "outputs": [
        {
          "output_type": "display_data",
          "data": {
            "image/png": "[encoded data removed]",
            "text/plain": [
              "<Figure size 432x288 with 1 Axes>"
            ]
          },
          "metadata": {
            "tags": [],
            "needs_background": "light"
          }
        }
      ]
    },
    {
      "cell_type": "markdown",
      "metadata": {
        "id": "Wb0-BHYJc0Lt"
      },
      "source": [
        "**Residual plot**"
      ]
    },
    {
      "cell_type": "code",
      "metadata": {
        "colab": {
          "base_uri": "https://localhost:8080/",
          "height": 323
        },
        "id": "ojWZizyhc2RN",
        "outputId": "4322149e-fd3e-4ab3-9244-2d123ef8cb9e"
      },
      "source": [
        "plt.figure()\n",
        "plt.scatter(yhat, y - yhat, c='g', s = 40)\n",
        "plt.hlines(y=0, xmin=100, xmax=700, colors =\"r\", linewidth=2)\n",
        "plt.gca().set_xlim(left=100, right=700)\n",
        "plt.ylim(-40, 40)\n",
        "plt.title('Residual plot')\n",
        "plt.xlabel('$\\hat{y}$', fontsize=14)\n",
        "plt.ylabel('Residuals', fontsize=14)"
      ],
      "execution_count": 9,
      "outputs": [
        {
          "output_type": "execute_result",
          "data": {
            "text/plain": [
              "Text(0, 0.5, 'Residuals')"
            ]
          },
          "metadata": {
            "tags": []
          },
          "execution_count": 9
        },
        {
          "output_type": "display_data",
          "data": {
            "image/png": "[encoded data removed]",
            "text/plain": [
              "<Figure size 432x288 with 1 Axes>"
            ]
          },
          "metadata": {
            "tags": [],
            "needs_background": "light"
          }
        }
      ]
    },
    {
      "cell_type": "markdown",
      "metadata": {
        "id": "KaSHk6eXc8iE"
      },
      "source": [
        "Analysis of Variance (ANOVA)\n",
        "------------\n",
        "**one-way ANOVA**"
      ]
    },
    {
      "cell_type": "code",
      "metadata": {
        "id": "YUGgFMRmdEwc"
      },
      "source": [
        "from scipy.stats import f, f_oneway"
      ],
      "execution_count": 10,
      "outputs": []
    },
    {
      "cell_type": "code",
      "metadata": {
        "colab": {
          "base_uri": "https://localhost:8080/"
        },
        "id": "Zv8CNJvvdLnk",
        "outputId": "697802ce-13b0-4e6b-a592-08491291941b"
      },
      "source": [
        "data = np.array([[7,  8, 15, 11,  9, 10],\n",
        "                [12, 17, 13, 18, 19, 15],\n",
        "                [14, 18, 19, 17, 16, 18],\n",
        "                [19, 25, 22, 23, 18, 20]])\n",
        "a, n = np.shape(data)\n",
        "m = a*n\n",
        "\n",
        "SSb = (sum([sum(row) ** 2 / len(row) for row in data]) - \n",
        "              sum([sum(row) for row in data]) ** 2 / m)\n",
        "\n",
        "SSt = (sum([value ** 2 for row in data for value in row]) - \n",
        "           sum(value for row in data for value in row) ** 2 / m)\n",
        "\n",
        "SSw = SSt - SSb\n",
        "\n",
        "F0 = (SSb/(a-1)) / (SSw/(a*(n-1))) \n",
        "p_val = f.sf(F0, a-1, a*(n-1))  # always right-tailed \n",
        "print('F0 = {0:.3f}, p-value = {1:.3f}, '.format(F0, p_val))"
      ],
      "execution_count": 11,
      "outputs": [
        {
          "output_type": "stream",
          "text": [
            "F0 = 19.605, p-value = 0.000, \n"
          ],
          "name": "stdout"
        }
      ]
    },
    {
      "cell_type": "markdown",
      "metadata": {
        "id": "UCsQjqJ5dUGk"
      },
      "source": [
        "**One-way ANOVA using SciPy**"
      ]
    },
    {
      "cell_type": "code",
      "metadata": {
        "colab": {
          "base_uri": "https://localhost:8080/",
          "height": 520
        },
        "id": "lSHNpHi7dWG8",
        "outputId": "d67e0310-485a-4c52-811b-33526bf7e154"
      },
      "source": [
        "F0, p_val = f_oneway(*data)\n",
        "print('F0 = {0:.3f}, p-value = {1:.3f}, '.format(F0, p_val))\n",
        "\n",
        "df_b = a-1\n",
        "df_w = a*(n-1)\n",
        "df_t = a*n-1\n",
        "MSb = SSb/df_b\n",
        "MSw = SSw/df_w\n",
        "\n",
        "results = {'SS':[SSb, SSw, SSt], 'df':[df_b, df_w, df_t], \n",
        "           'MS':[MSb, MSw, 'NaN'], 'F':[F0, 'NaN', 'NaN']}\n",
        "col = ['SS', 'df', 'MS', 'F']\n",
        "aov_table = pd.DataFrame(results, columns=col, index=['Factor', 'Error', 'Total'])\n",
        "print(aov_table)\n",
        "\n",
        "data = data.T\n",
        "df = pd.DataFrame(data, columns = ['A','B','C','D'])\n",
        "print(df.describe())\n",
        "sns.boxplot(data=data)"
      ],
      "execution_count": 12,
      "outputs": [
        {
          "output_type": "stream",
          "text": [
            "F0 = 19.605, p-value = 0.000, \n",
            "                SS  df       MS        F\n",
            "Factor  382.791667   3  127.597  19.6052\n",
            "Error   130.166667  20  6.50833      NaN\n",
            "Total   512.958333  23      NaN      NaN\n",
            "               A          B          C          D\n",
            "count   6.000000   6.000000   6.000000   6.000000\n",
            "mean   10.000000  15.666667  17.000000  21.166667\n",
            "std     2.828427   2.804758   1.788854   2.639444\n",
            "min     7.000000  12.000000  14.000000  18.000000\n",
            "25%     8.250000  13.500000  16.250000  19.250000\n",
            "50%     9.500000  16.000000  17.500000  21.000000\n",
            "75%    10.750000  17.750000  18.000000  22.750000\n",
            "max    15.000000  19.000000  19.000000  25.000000\n"
          ],
          "name": "stdout"
        },
        {
          "output_type": "execute_result",
          "data": {
            "text/plain": [
              "<matplotlib.axes._subplots.AxesSubplot at 0x7f31ceeed350>"
            ]
          },
          "metadata": {
            "tags": []
          },
          "execution_count": 12
        },
        {
          "output_type": "display_data",
          "data": {
            "image/png": "[encoded data removed]",
            "text/plain": [
              "<Figure size 432x288 with 1 Axes>"
            ]
          },
          "metadata": {
            "tags": [],
            "needs_background": "light"
          }
        }
      ]
    },
    {
      "cell_type": "markdown",
      "metadata": {
        "id": "TDA8XqTNdhSU"
      },
      "source": [
        "Design of Experiments\n",
        "------------\n"
      ]
    },
    {
      "cell_type": "code",
      "metadata": {
        "id": "7isRSohRdm6s"
      },
      "source": [
        "from statsmodels.graphics.factorplots import interaction_plot"
      ],
      "execution_count": 14,
      "outputs": []
    },
    {
      "cell_type": "markdown",
      "metadata": {
        "id": "VXs1YKHSeAjT"
      },
      "source": [
        "**Interaction plot**"
      ]
    },
    {
      "cell_type": "code",
      "metadata": {
        "colab": {
          "base_uri": "https://localhost:8080/",
          "height": 283
        },
        "id": "EwsirLZ7eC_j",
        "outputId": "3408e2ca-9cec-4948-8ffb-e8c95f71c125"
      },
      "source": [
        "data = np.array([[145, 147], [155, 150], [132, 134], [139, 150]])\n",
        "n, k = 2, 2\n",
        "#design matrix\n",
        "M = np.array([[-1., -1.,  1.],\n",
        "              [ 1., -1., -1.],\n",
        "              [-1.,  1., -1.],\n",
        "              [ 1.,  1.,  1.]])\n",
        "R = np.tile(M, (n, 1)) #replicate of design matrix\n",
        "g1 = R[:,0]; g2 = R[:,1]    #factors A and B\n",
        "y = data.flatten(order='F')\n",
        "#Interaction plot\n",
        "interaction_plot(g1, g2, y, colors=['blue','red'], markers=['D','o'], ms=10)\n",
        "plt.xticks([-1,1],('-', '+'))\n",
        "plt.xlabel('$A$', fontsize=14)\n",
        "plt.legend(['$B-$', '$B+$'], loc ='best')\n",
        "plt.grid(True)"
      ],
      "execution_count": 15,
      "outputs": [
        {
          "output_type": "display_data",
          "data": {
            "image/png": "[encoded data removed]",
            "text/plain": [
              "<Figure size 432x288 with 1 Axes>"
            ]
          },
          "metadata": {
            "tags": [],
            "needs_background": "light"
          }
        }
      ]
    },
    {
      "cell_type": "markdown",
      "metadata": {
        "id": "okZ2G990eFJy"
      },
      "source": [
        "**Fit the model**"
      ]
    },
    {
      "cell_type": "code",
      "metadata": {
        "colab": {
          "base_uri": "https://localhost:8080/"
        },
        "id": "mneVcHtbeHHD",
        "outputId": "937b5263-2e5f-4814-ffaa-6867cfcb4a95"
      },
      "source": [
        "formula = 'y ~ C(g1) + C(g2) + C(g1):C(g2)'\n",
        "df = pd.DataFrame(np.stack((y, g1, g2),-1), columns=['y', 'g1', 'g2'])\n",
        "model = ols(formula, df).fit()\n",
        "# Print the summary\n",
        "print(model.summary())"
      ],
      "execution_count": 17,
      "outputs": [
        {
          "output_type": "stream",
          "text": [
            "                            OLS Regression Results                            \n",
            "==============================================================================\n",
            "Dep. Variable:                      y   R-squared:                       0.837\n",
            "Model:                            OLS   Adj. R-squared:                  0.715\n",
            "Method:                 Least Squares   F-statistic:                     6.840\n",
            "Date:                Fri, 16 Apr 2021   Prob (F-statistic):             0.0471\n",
            "Time:                        02:18:48   Log-Likelihood:                -20.409\n",
            "No. Observations:                   8   AIC:                             48.82\n",
            "Df Residuals:                       4   BIC:                             49.14\n",
            "Df Model:                           3                                         \n",
            "Covariance Type:            nonrobust                                         \n",
            "=============================================================================================\n",
            "                                coef    std err          t      P>|t|      [0.025      0.975]\n",
            "---------------------------------------------------------------------------------------------\n",
            "Intercept                   146.0000      3.102     47.060      0.000     137.386     154.614\n",
            "C(g1)[T.1.0]                  6.5000      4.387      1.481      0.213      -5.682      18.682\n",
            "C(g2)[T.1.0]                -13.0000      4.387     -2.963      0.041     -25.182      -0.818\n",
            "C(g1)[T.1.0]:C(g2)[T.1.0]     5.0000      6.205      0.806      0.466     -12.227      22.227\n",
            "==============================================================================\n",
            "Omnibus:                        0.268   Durbin-Watson:                   1.711\n",
            "Prob(Omnibus):                  0.875   Jarque-Bera (JB):                0.059\n",
            "Skew:                          -0.000   Prob(JB):                        0.971\n",
            "Kurtosis:                       2.580   Cond. No.                         6.85\n",
            "==============================================================================\n",
            "\n",
            "Warnings:\n",
            "[1] Standard Errors assume that the covariance matrix of the errors is correctly specified.\n"
          ],
          "name": "stdout"
        },
        {
          "output_type": "stream",
          "text": [
            "/usr/local/lib/python3.7/dist-packages/scipy/stats/stats.py:1535: UserWarning: kurtosistest only valid for n>=20 ... continuing anyway, n=8\n",
            "  \"anyway, n=%i\" % int(n))\n"
          ],
          "name": "stderr"
        }
      ]
    },
    {
      "cell_type": "markdown",
      "metadata": {
        "id": "j194Mg0ReX-i"
      },
      "source": [
        "**Peform ANOVA on fitted linear model**"
      ]
    },
    {
      "cell_type": "code",
      "metadata": {
        "colab": {
          "base_uri": "https://localhost:8080/"
        },
        "id": "dtaqODsheVLi",
        "outputId": "5d0286a5-917e-4df7-9548-d333d7a0f237"
      },
      "source": [
        "table = anova_lm(model, typ=2)\n",
        "print(table)"
      ],
      "execution_count": 18,
      "outputs": [
        {
          "output_type": "stream",
          "text": [
            "             sum_sq   df          F    PR(>F)\n",
            "C(g1)         162.0  1.0   8.415584  0.044075\n",
            "C(g2)         220.5  1.0  11.454545  0.027671\n",
            "C(g1):C(g2)    12.5  1.0   0.649351  0.465521\n",
            "Residual       77.0  4.0        NaN       NaN\n"
          ],
          "name": "stdout"
        }
      ]
    },
    {
      "cell_type": "markdown",
      "metadata": {
        "id": "VuwUxqTTeklC"
      },
      "source": [
        "**Regression model**"
      ]
    },
    {
      "cell_type": "code",
      "metadata": {
        "id": "OtTQAyeVeniI"
      },
      "source": [
        "#Grand average\n",
        "ybarbar = np.sum(np.sum(data,1))/((2**k)*n)\n",
        "#Totals\n",
        "S = np.sum(data,1)\n",
        "#one = S[0]; a = S[1]; b = S[2]; ab = S[3]\n",
        "#Averages\n",
        "ybar = np.mean(data,1)\n",
        "#Main effects\n",
        "totals = S.T\n",
        "contrastA = np.dot(totals, M[:,0])\n",
        "contrastB = np.dot(totals, M[:,1])\n",
        "contrastAB = np.dot(totals, M[:,2])\n",
        "A = (contrastA)/(n*2**(k-1))\n",
        "B = (contrastB)/(n*2**(k-1))\n",
        "AB = (contrastAB)/(n*2**(k-1))\n",
        "\n",
        "#Sums of squares\n",
        "SS_A = n*(A**2)*(2**(k-2))\n",
        "SS_B = n*(B**2)*(2**(k-2))\n",
        "SS_AB = n*(AB**2)*(2**(k-2))\n",
        "SS_T = sum((df.y - ybarbar)**2)\n",
        "SS_E = SS_T - SS_A - SS_B - SS_AB\n",
        "\n",
        "#Calculate yhat and the residuals\n",
        "N = len(data)\n",
        "yhat = np.zeros((N, 1))    #initialization of yhat\n",
        "for j in range(N):\n",
        "  yhat[j] = ybarbar + (A/2)*M[j,0] + (B/2)*M[j,1] #+(AB/2)*M[j,0]*M[j,1]"
      ],
      "execution_count": 20,
      "outputs": []
    },
    {
      "cell_type": "markdown",
      "metadata": {
        "id": "e49gH8xBerXA"
      },
      "source": [
        "**Residuals**"
      ]
    },
    {
      "cell_type": "code",
      "metadata": {
        "id": "XdFZXZgDesiI"
      },
      "source": [
        "residuals = data - yhat  # y - yhat;\n",
        "error = residuals.flatten('F')  #residuals.ravel('F')"
      ],
      "execution_count": 22,
      "outputs": []
    },
    {
      "cell_type": "markdown",
      "metadata": {
        "id": "rSSIf2b_e1jQ"
      },
      "source": [
        "**Normal probability plot**"
      ]
    },
    {
      "cell_type": "code",
      "metadata": {
        "colab": {
          "base_uri": "https://localhost:8080/",
          "height": 295
        },
        "id": "rXp-KHWmezdR",
        "outputId": "32d31d35-f19f-42d7-b3e6-f3fc4ca415d8"
      },
      "source": [
        "stats.probplot(error, plot=plt)\n",
        "plt.grid(True)"
      ],
      "execution_count": 24,
      "outputs": [
        {
          "output_type": "display_data",
          "data": {
            "image/png": "[encoded data removed]",
            "text/plain": [
              "<Figure size 432x288 with 1 Axes>"
            ]
          },
          "metadata": {
            "tags": [],
            "needs_background": "light"
          }
        }
      ]
    },
    {
      "cell_type": "markdown",
      "metadata": {
        "id": "ugNSd_KRe7Jg"
      },
      "source": [
        "**Residual plots**"
      ]
    },
    {
      "cell_type": "code",
      "metadata": {
        "colab": {
          "base_uri": "https://localhost:8080/",
          "height": 834
        },
        "id": "Aqj6C-_8e-aI",
        "outputId": "fe28a8a8-eaf9-48a9-fb18-55a04e334bd8"
      },
      "source": [
        "#Residual plot\n",
        "plt.figure()\n",
        "plt.scatter(np.tile(yhat, (n, 1)), error, c='g', s = 40)\n",
        "plt.hlines(y=0, xmin=130, xmax=158, colors =\"r\", linewidth=2)\n",
        "plt.gca().set_xlim(left=130, right=158)\n",
        "plt.ylim(-8, 8)\n",
        "plt.xlabel('$\\hat{y}$', fontsize=14)\n",
        "plt.ylabel('Residuals', fontsize=14)\n",
        "plt.grid(True)\n",
        "\n",
        "#Plot the residuals vs. levels of factor A\n",
        "#Factor: A = M[:,0]\n",
        "plt.figure()\n",
        "plt.scatter(g1, error, c='g', s = 40)\n",
        "plt.hlines(y=0, xmin=-1.2, xmax=1.2, colors =\"r\", linewidth=2)\n",
        "plt.gca().set_xlim(left=-1.2, right=1.2)\n",
        "plt.ylim(-8, 8)\n",
        "plt.xticks([-1,1],('-1', '1'))\n",
        "plt.xlabel('$A$', fontsize=14)\n",
        "plt.ylabel('Residuals', fontsize=14)\n",
        "plt.grid(True)\n",
        "\n",
        "#Plot the residuals vs. levels of factor B\n",
        "#Factor: B = M[:,1]\n",
        "plt.figure()\n",
        "plt.scatter(g2, error, c='g', s = 40)\n",
        "plt.hlines(y=0, xmin=-1.2, xmax=1.2, colors =\"r\", linewidth=2)\n",
        "plt.gca().set_xlim(left=-1.2, right=1.2)\n",
        "plt.ylim(-8, 8)\n",
        "plt.xticks([-1,1],('-1', '1'))\n",
        "plt.xlabel('$B$', fontsize=14)\n",
        "plt.ylabel('Residuals', fontsize=14)\n",
        "plt.grid(True)"
      ],
      "execution_count": 25,
      "outputs": [
        {
          "output_type": "display_data",
          "data": {
            "image/png": "[encoded data removed]",
            "text/plain": [
              "<Figure size 432x288 with 1 Axes>"
            ]
          },
          "metadata": {
            "tags": [],
            "needs_background": "light"
          }
        },
        {
          "output_type": "display_data",
          "data": {
            "image/png": "[encoded data removed]",
            "text/plain": [
              "<Figure size 432x288 with 1 Axes>"
            ]
          },
          "metadata": {
            "tags": [],
            "needs_background": "light"
          }
        },
        {
          "output_type": "display_data",
          "data": {
            "image/png": "[encoded data removed]",
            "text/plain": [
              "<Figure size 432x288 with 1 Axes>"
            ]
          },
          "metadata": {
            "tags": [],
            "needs_background": "light"
          }
        }
      ]
    }
  ]
}