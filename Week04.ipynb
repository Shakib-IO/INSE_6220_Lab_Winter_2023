{
  "cells": [
    {
      "cell_type": "markdown",
      "metadata": {
        "id": "view-in-github",
        "colab_type": "text"
      },
      "source": [
        "<a href=\"https://colab.research.google.com/github/Shakib-IO/INSE_6220_Lab_Winter_2023/blob/main/Week04.ipynb\" target=\"_parent\"><img src=\"https://colab.research.google.com/assets/colab-badge.svg\" alt=\"Open In Colab\"/></a>"
      ]
    },
    {
      "cell_type": "markdown",
      "metadata": {
        "id": "sDVjI50fXCQr"
      },
      "source": [
        "# Elementary Statistics_ Picturing The World"
      ]
    },
    {
      "cell_type": "markdown",
      "metadata": {
        "id": "GV6-U-evXCQu"
      },
      "source": [
        "## 2.3.- Measures of Means"
      ]
    },
    {
      "cell_type": "markdown",
      "metadata": {
        "id": "IKw3Qn4YXCQv"
      },
      "source": [
        "The **mean** of a data set is the sum of the data entries divided by the number of\n",
        "entries. To find the mean of a data set, use one of these formulas.\n",
        "\n",
        "Population Mean: $\\mu = \\frac{\\Sigma x}{N}$\n",
        "\n",
        "Sample Mean: $\\bar{x} = \\frac{\\Sigma x}{n}$\n",
        "\n",
        "The lowercase Greek letter $\\mu$ (pronounced mu) represents the population\n",
        "mean and $\\bar{x}$ (read as “x bar”) represents the sample mean. Note that $N$\n",
        "represents the number of entries in a $\\textit{population}$ and $n$ represents the number\n",
        "of entries in a sample. Recall that the uppercase Greek letter sigma ($\\Sigma$)\n",
        "indicates a summation of values."
      ]
    },
    {
      "cell_type": "markdown",
      "metadata": {
        "id": "uQAJDOglXCQv"
      },
      "source": [
        "## 2.4.- Measures of Variation"
      ]
    },
    {
      "cell_type": "markdown",
      "metadata": {
        "id": "aws-30NjXCQw"
      },
      "source": [
        "The **population variance** of a population data set of $N$ entries is\n",
        "\n",
        "Population variance $= \\sigma^2 = \\frac{\\Sigma(x - \\mu)^2}{N}$\n",
        "\n",
        "The symbol $\\sigma$ is the lowercase Greek letter sigma.\n",
        "\n",
        "The **population standard deviation** of a population data set of $N$ entries is the\n",
        "square root of the population variance.\n",
        "\n",
        "Population standard deviation $= \\sigma = \\sqrt{\\sigma^2} = \\sqrt{\\frac{\\Sigma(x - \\mu)^2}{N}}$"
      ]
    },
    {
      "cell_type": "markdown",
      "metadata": {
        "id": "ebvJfBqxXCQw"
      },
      "source": [
        "### **Example 1**"
      ]
    },
    {
      "cell_type": "markdown",
      "metadata": {
        "id": "ZI2RZZSMXCQw"
      },
      "source": [
        "Find the population variance and standard deviation of the starting salaries for\n",
        "Corporation A."
      ]
    },
    {
      "cell_type": "code",
      "execution_count": null,
      "metadata": {
        "id": "0VPGa8ppXCQx",
        "outputId": "63139a00-b3d5-4bd3-f320-dd4fed10f0c9"
      },
      "outputs": [
        {
          "name": "stdout",
          "output_type": "stream",
          "text": [
            "population variance = 8.85\n",
            "population standard deviation = 2.975\n",
            "\n",
            "population variance with statistics = 8.85\n",
            "population standard deviation with statistics = 2.975\n"
          ]
        }
      ],
      "source": [
        "from math import sqrt\n",
        "\n",
        "salaries = [41, 38, 39, 45, 47, 41, 44, 41, 37, 42]\n",
        "\n",
        "N = len(salaries)\n",
        "mean = sum(salaries) / N\n",
        "variance = sum([(salary - mean) ** 2 for salary in salaries]) / N\n",
        "std = sqrt(variance)\n",
        "\n",
        "print('population variance =', round(variance, 3))\n",
        "print('population standard deviation =', round(std, 3), end='\\n\\n')\n",
        "\n",
        "from statistics import pvariance, pstdev\n",
        "\n",
        "variance = pvariance(salaries)\n",
        "std = pstdev(salaries)\n",
        "\n",
        "print('population variance with statistics =', round(variance, 3))\n",
        "print('population standard deviation with statistics =', round(std, 3))"
      ]
    },
    {
      "cell_type": "markdown",
      "metadata": {
        "id": "RsFIeYkrXCQy"
      },
      "source": [
        "The **sample variance** and **sample standard deviation** of a sample data set of $n$\n",
        "entries are listed below.\n",
        "\n",
        "Sample variance $= s^2 = \\frac{\\Sigma(x - \\bar{x})^2}{n - 1}$\n",
        "\n",
        "Sample standard deviation $= s = \\sqrt{s^2} = \\sqrt{\\frac{\\Sigma(x - \\bar{x})^2}{n - 1}}$"
      ]
    },
    {
      "cell_type": "markdown",
      "metadata": {
        "id": "iBD1skkgXCQz"
      },
      "source": [
        "### **Example 2**"
      ]
    },
    {
      "cell_type": "markdown",
      "metadata": {
        "id": "j0MqTluzXCQz"
      },
      "source": [
        "In a study of high school football players that suffered concussions, researchers\n",
        "placed the players in two groups. Players that recovered from their concussions\n",
        "in 14 days or less were placed in Group 1. Those that took more than 14 days\n",
        "were placed in Group 2. The recovery times (in days) for Group 1 are listed\n",
        "below. Find the sample variance and standard deviation of the recovery times"
      ]
    },
    {
      "cell_type": "code",
      "execution_count": null,
      "metadata": {
        "id": "wi_xFqlMXCQz",
        "outputId": "6c956017-4c7d-4cdb-cc12-e7e48d538d0d"
      },
      "outputs": [
        {
          "name": "stdout",
          "output_type": "stream",
          "text": [
            "sample variance = 3.545\n",
            "sample standard deviation = 1.883\n",
            "\n",
            "sample variance with statistics = 3.545\n",
            "sample standard deviation with statistics = 1.883\n"
          ]
        }
      ],
      "source": [
        "from math import sqrt\n",
        "\n",
        "times = [4, 7, 6, 7, 9, 5, 8, 10, 9, 8, 7, 10]\n",
        "\n",
        "n = len(times)\n",
        "mean = sum(times) / n\n",
        "variance = sum([(time - mean) ** 2 for time in times]) / (n - 1)\n",
        "std = sqrt(variance)\n",
        "\n",
        "print('sample variance =', round(variance, 3))\n",
        "print('sample standard deviation =', round(std, 3), end='\\n\\n')\n",
        "\n",
        "from statistics import variance, stdev\n",
        "\n",
        "variance = variance(times)\n",
        "std = stdev(times)\n",
        "\n",
        "print('sample variance with statistics =', round(variance, 3))\n",
        "print('sample standard deviation with statistics =', round(std, 3))"
      ]
    },
    {
      "cell_type": "markdown",
      "source": [
        "# Hypothesis Testing"
      ],
      "metadata": {
        "id": "b_OubXDkYJC-"
      }
    },
    {
      "cell_type": "markdown",
      "source": [
        "![Screenshot 2023-02-06 at 8.08.31 PM.png](data:image/png;base64,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)"
      ],
      "metadata": {
        "id": "d0tR1_IkbGu0"
      }
    },
    {
      "cell_type": "markdown",
      "metadata": {
        "id": "UUyUAXKpXCQ2"
      },
      "source": [
        "## 8.1.- Testing the Difference Between Means (Independent Samples,$\\sigma_1$ and $\\sigma_2$ Known)"
      ]
    },
    {
      "cell_type": "markdown",
      "metadata": {
        "id": "RVgmjZgzXCQ2"
      },
      "source": [
        "### **Example 2**"
      ]
    },
    {
      "cell_type": "markdown",
      "metadata": {
        "id": "wh2LQxUTXCQ2"
      },
      "source": [
        "A credit card group claims that there is a difference in the mean credit card debts of households in California and Illinois. The results of\n",
        "a random survey of 250 households from each state are shown at the left.\n",
        "Do the results support the group’s claim? Use\n",
        "$\\alpha$ = 0.05."
      ]
    },
    {
      "cell_type": "markdown",
      "metadata": {
        "id": "XQwF0kmhXCQ2"
      },
      "source": [
        "#### Solution"
      ]
    },
    {
      "cell_type": "markdown",
      "metadata": {
        "id": "8gSdjtjAXCQ2"
      },
      "source": [
        "**Claim:** \"there is a difference in the mean credit card debts of households in California and Illinois.\""
      ]
    },
    {
      "cell_type": "markdown",
      "metadata": {
        "id": "7_8xSrkZXCQ2"
      },
      "source": [
        "$H_{0}$: $\\mu_{1} = \\mu_{2}$ and $H_{a}$: $\\mu_{1} \\neq \\mu_{2}$. (Claim)"
      ]
    },
    {
      "cell_type": "code",
      "execution_count": 6,
      "metadata": {
        "colab": {
          "base_uri": "https://localhost:8080/"
        },
        "id": "_xterw-fXCQ2",
        "outputId": "b9390da1-2b7c-4595-95b0-87ac5c49ded5"
      },
      "outputs": [
        {
          "output_type": "stream",
          "name": "stdout",
          "text": [
            "The rejection regions are: z < -1.96 and z > 1.96\n",
            "z: -0.824\n"
          ]
        }
      ],
      "source": [
        "from scipy.stats import norm\n",
        "from math import sqrt\n",
        "\n",
        "# California\n",
        "smean1 = 4777\n",
        "sstd1 = 1045\n",
        "n1 = 250\n",
        "\n",
        "# Illinois\n",
        "smean2 = 4866\n",
        "sstd2 = 1350\n",
        "n2 = 250\n",
        "\n",
        "alpha = 0.05\n",
        "area_one_tail = 0.5 * alpha\n",
        "\n",
        "z0 = norm.ppf((1 - alpha) + area_one_tail)\n",
        "z = (smean1 - smean2) / sqrt(sstd1 ** 2/ n1 + sstd2 ** 2/ n2)\n",
        "\n",
        "print('The rejection regions are: z <', round(-z0, 3), 'and z >', round(z0, 3))\n",
        "print('z:', round(z, 3))"
      ]
    },
    {
      "cell_type": "markdown",
      "metadata": {
        "id": "2dKBizAtXCQ2"
      },
      "source": [
        "Because $z$ is not in the rejection region, you fail to reject the null hypothesis. "
      ]
    },
    {
      "cell_type": "markdown",
      "metadata": {
        "id": "2Q0VePk6XCQ2"
      },
      "source": [
        "Fail to reject $H_{0}$"
      ]
    },
    {
      "cell_type": "markdown",
      "metadata": {
        "id": "uMI0FfneXCQ2"
      },
      "source": [
        "**Interpretation** There is not enough evidence at the 5% level of significance\n",
        "to support the group’s claim that there is a difference in the mean credit card\n",
        "debts of households in California and Illinois."
      ]
    },
    {
      "cell_type": "markdown",
      "metadata": {
        "id": "o3iKnFGZXCQ3"
      },
      "source": [
        "### **Example 03**"
      ]
    },
    {
      "cell_type": "markdown",
      "metadata": {
        "id": "zoEO1XiiXCQ3"
      },
      "source": [
        "A survey indicates that the mean annual wages for forensic science technicians working for local and state governments are \\\\$55,950 and \\\\$51,100, respectively. The survey includes a randomly selected sample of size 100 from each government branch. Assume that the population standard deviations are \\\\$6200 (local) and \\\\$5575 (state). The two samples are independent. At $\\alpha$ = 0.10, is there enough evidence to conclude that there is a difference in the mean annual wages?"
      ]
    },
    {
      "cell_type": "markdown",
      "metadata": {
        "id": "BHrDdRD_XCQ3"
      },
      "source": [
        "#### Solution"
      ]
    },
    {
      "cell_type": "markdown",
      "metadata": {
        "id": "-z4JDy0zXCQ3"
      },
      "source": [
        "**Claim:** \"there is a difference in the mean annual wages for forensic science technicians working for local and state governments\""
      ]
    },
    {
      "cell_type": "markdown",
      "metadata": {
        "id": "CHus0YcRXCQ3"
      },
      "source": [
        "$H_{0}$: $\\mu_{1} = \\mu_{2}$ and $H_{a}$: $\\mu_{1} \\neq \\mu_{2}$. (Claim)"
      ]
    },
    {
      "cell_type": "code",
      "execution_count": null,
      "metadata": {
        "id": "ZU3yFxVlXCQ3",
        "outputId": "cef8fdb1-9c43-4c59-d699-b58643d55457"
      },
      "outputs": [
        {
          "name": "stdout",
          "output_type": "stream",
          "text": [
            "The rejection regions are: z < -1.645 and z > 1.645\n",
            "z: 5.817\n"
          ]
        }
      ],
      "source": [
        "from scipy.stats import norm\n",
        "from math import sqrt\n",
        "\n",
        "# local\n",
        "smean1 = 55950\n",
        "sstd1 = 6200\n",
        "n1 = 100\n",
        "\n",
        "# state\n",
        "smean2 = 51100\n",
        "sstd2 = 5575\n",
        "n2 = 100\n",
        "\n",
        "alpha = 0.10\n",
        "area_one_tail = 0.5 * alpha\n",
        "\n",
        "z0 = norm.ppf((1 - alpha) + area_one_tail)\n",
        "z = (smean1 - smean2) / sqrt(sstd1 ** 2/ n1 + sstd2 ** 2/ n2)\n",
        "\n",
        "print('The rejection regions are: z <', round(-z0, 3), 'and z >', round(z0, 3))\n",
        "print('z:', round(z, 3))"
      ]
    },
    {
      "cell_type": "markdown",
      "metadata": {
        "id": "dAW_gGG4XCQ3"
      },
      "source": [
        "Because $z$ is\n",
        "in the rejection region, you reject the null hypothesis. "
      ]
    },
    {
      "cell_type": "markdown",
      "metadata": {
        "id": "gPUdiaIXXCQ3"
      },
      "source": [
        "Reject $H_{0}$"
      ]
    },
    {
      "cell_type": "markdown",
      "metadata": {
        "id": "PQ8unn6GXCQ3"
      },
      "source": [
        "**Interpretation** There is enough evidence at the 10% level of significance to support the claim that there is a difference in the mean annual wages for forensic science technicians working for local and state governments."
      ]
    },
    {
      "cell_type": "markdown",
      "metadata": {
        "id": "4dlehgeEXCQ3"
      },
      "source": [
        "### **Example 3**"
      ]
    },
    {
      "cell_type": "markdown",
      "metadata": {
        "id": "g7gSRUreXCQ3"
      },
      "source": [
        "A travel agency claims that the average daily cost of meals and lodging for vacationing in Texas is less than the average daily cost in Virginia. The table at the left shows the results of a random survey of vacationers in each state. The two samples are independent. Assume that $\\sigma_{1}$ = \\\\$19 for Texas and $\\sigma_{2}$ = \\\\$24 for Virginia, and that both populations are normally distributed. At $\\alpha$ = 0.01, is there enough evidence to support the claim? "
      ]
    },
    {
      "cell_type": "markdown",
      "metadata": {
        "id": "Hy9rX7zUXCQ3"
      },
      "source": [
        "#### Solution"
      ]
    },
    {
      "cell_type": "markdown",
      "metadata": {
        "id": "bYLay-TXXCQ3"
      },
      "source": [
        "**Claim:** \"The average daily cost of meals and lodging for vacationing in Texas is less than the average daily cost in Virginia\""
      ]
    },
    {
      "cell_type": "markdown",
      "metadata": {
        "id": "EmOYh0BwXCQ3"
      },
      "source": [
        "$H_{0}$: $\\mu_{1} \\ge \\mu_{2}$ and $H_{a}$: $\\mu_{1} < \\mu_{2}$. (Claim)"
      ]
    },
    {
      "cell_type": "code",
      "execution_count": 7,
      "metadata": {
        "colab": {
          "base_uri": "https://localhost:8080/"
        },
        "id": "NUxoRDTUXCQ4",
        "outputId": "82ee8b78-a89e-4e5e-faef-840c9ecfa5cb"
      },
      "outputs": [
        {
          "output_type": "stream",
          "name": "stdout",
          "text": [
            "The rejection region is: z < -2.326\n",
            "z: -0.912\n"
          ]
        }
      ],
      "source": [
        "from scipy.stats import norm\n",
        "from math import sqrt\n",
        "\n",
        "# Texas\n",
        "smean1 = 234\n",
        "sstd1 = 19\n",
        "n1 = 25\n",
        "\n",
        "# Virginia\n",
        "smean2 = 240\n",
        "sstd2 = 24\n",
        "n2 = 20\n",
        "\n",
        "alpha = 0.01\n",
        "\n",
        "z0 = norm.ppf(alpha)\n",
        "z = (smean1 - smean2) / sqrt(sstd1 ** 2/ n1 + sstd2 ** 2/ n2)\n",
        "\n",
        "print('The rejection region is: z <', round(z0, 3))\n",
        "print('z:', round(z, 3))"
      ]
    },
    {
      "cell_type": "markdown",
      "metadata": {
        "id": "fsih9kIPXCQ4"
      },
      "source": [
        "Because $z$ is not in the rejection region, you fail to reject the null hypothesis. "
      ]
    },
    {
      "cell_type": "markdown",
      "metadata": {
        "id": "BTGvdIE7XCQ4"
      },
      "source": [
        "Fail to reject $H_{0}$"
      ]
    },
    {
      "cell_type": "markdown",
      "metadata": {
        "id": "YsUbwEQlXCQ4"
      },
      "source": [
        "**Interpretation** There is not enough evidence at the 1% level of significance to support the travel agency’s claim."
      ]
    },
    {
      "cell_type": "markdown",
      "metadata": {
        "id": "OPunbVd-XCQ4"
      },
      "source": [
        "### **Try It Yourself 3**"
      ]
    },
    {
      "cell_type": "markdown",
      "metadata": {
        "id": "UFOwo5dtXCQ4"
      },
      "source": [
        "A travel agency claims that the average daily cost of meals and lodging for vacationing in Alaska is greater than the average daily cost in Colorado. The table at the left shows the results of a random survey of vacationers in each state. The two samples are independent. Assume that $\\sigma_{1}$ = \\\\$24 for Alaska and $\\sigma_{2}$ = \\\\$19 for Colorado, and that both populations are normally distributed. At $\\alpha$ = 0.05, is there enough evidence to support the claim?"
      ]
    },
    {
      "cell_type": "markdown",
      "metadata": {
        "id": "d2_wj9j3XCQ4"
      },
      "source": [
        "#### Solution"
      ]
    },
    {
      "cell_type": "markdown",
      "metadata": {
        "id": "qk9AsarkXCQ4"
      },
      "source": [
        "**Claim:** \"The average daily cost of meals and lodging for vacationing in Alaska is greater than the average daily cost in Colorado.\""
      ]
    },
    {
      "cell_type": "markdown",
      "metadata": {
        "id": "T8YnsRJeXCQ4"
      },
      "source": [
        "$H_{0}$: $\\mu_{1} \\le \\mu_{2}$ and $H_{a}$: $\\mu_{1} > \\mu_{2}$. (Claim)"
      ]
    },
    {
      "cell_type": "code",
      "execution_count": null,
      "metadata": {
        "id": "nwXbi4GaXCQ4",
        "outputId": "b291125b-1372-412e-c5f2-0e061bd89c03"
      },
      "outputs": [
        {
          "name": "stdout",
          "output_type": "stream",
          "text": [
            "The rejection region is: z < -1.64\n",
            "z: 0.399\n"
          ]
        }
      ],
      "source": [
        "from scipy.stats import norm\n",
        "from math import sqrt\n",
        "\n",
        "# Alaska\n",
        "smean1 = 296\n",
        "sstd1 = 24\n",
        "n1 = 15\n",
        "\n",
        "# Colorado\n",
        "smean2 = 293\n",
        "sstd2 = 19\n",
        "n2 = 20\n",
        "\n",
        "alpha = 0.05\n",
        "\n",
        "z0 = norm.ppf(alpha)\n",
        "z = (smean1 - smean2) / sqrt(sstd1 ** 2/ n1 + sstd2 ** 2/ n2)\n",
        "\n",
        "print('The rejection region is: z <', round(z0, 2))\n",
        "print('z:', round(z, 3))"
      ]
    },
    {
      "cell_type": "markdown",
      "metadata": {
        "id": "5Ks5JRRdXCQ4"
      },
      "source": [
        "Because $z$ is not in the rejection region or P > $\\alpha$, you fail to reject the null hypothesis. "
      ]
    },
    {
      "cell_type": "markdown",
      "metadata": {
        "id": "3RNYcJLkXCQ6"
      },
      "source": [
        "Fail to reject $H_0$."
      ]
    },
    {
      "cell_type": "markdown",
      "metadata": {
        "id": "9oy-MeEoXCQ6"
      },
      "source": [
        "**Interpretation** There is not enough evidence at the 5% level of significance to support the travel agency’s claim that the average daily cost of meals and lodging for vacationing in Alaska is greater than the average daily cost in Colorado."
      ]
    },
    {
      "cell_type": "markdown",
      "metadata": {
        "id": "9XYKHwGGXCQ6"
      },
      "source": [
        "## 8.2.- Testing the Difference Between Means (Independent Samples,$\\sigma_1$ and $\\sigma_2$ Unknown)"
      ]
    },
    {
      "cell_type": "markdown",
      "metadata": {
        "id": "71o_q7PjXCQ6"
      },
      "source": [
        "### **Example 1**"
      ]
    },
    {
      "cell_type": "markdown",
      "metadata": {
        "id": "EF9n3JVDXCQ6"
      },
      "source": [
        "The results of a state mathematics test for random samples of students taught\n",
        "by two different teachers at the same school are shown at the left. Can you\n",
        "conclude that there is a difference in the mean mathematics test scores for\n",
        "the students of the two teachers? Use $\\alpha$ = 0.10. Assume the populations are\n",
        "normally distributed and the population variances are not equal."
      ]
    },
    {
      "cell_type": "markdown",
      "metadata": {
        "id": "HDxSzfXLXCQ6"
      },
      "source": [
        "#### Solution"
      ]
    },
    {
      "cell_type": "markdown",
      "metadata": {
        "id": "RJHY0DKCXCQ6"
      },
      "source": [
        "**Claim:** \"there is a difference in the mean mathematics test scores for the students of the two teachers.\""
      ]
    },
    {
      "cell_type": "markdown",
      "metadata": {
        "id": "4_7gqepSXCQ6"
      },
      "source": [
        "$H_{0}$: $\\mu_{1} = \\mu_{2}$ and $H_{a}$: $\\mu_{1} \\neq \\mu_{2}$. (Claim)"
      ]
    },
    {
      "cell_type": "code",
      "execution_count": null,
      "metadata": {
        "id": "i5h4h3hxXCQ7",
        "outputId": "e3fcaca4-ae67-4f94-96a3-231349d5d849"
      },
      "outputs": [
        {
          "name": "stdout",
          "output_type": "stream",
          "text": [
            "The rejection regions are: t < -1.895 and t > 1.895\n",
            "t: 0.922\n"
          ]
        }
      ],
      "source": [
        "from scipy.stats import t\n",
        "from math import sqrt\n",
        "\n",
        "# Teacher 1\n",
        "smean1 = 473\n",
        "sstd1 = 39.7\n",
        "n1 = 8\n",
        "\n",
        "# Teacher 2\n",
        "smean2 = 459\n",
        "sstd2 = 24.5\n",
        "n2 = 18\n",
        "\n",
        "alpha = 0.10\n",
        "area_one_tail = 0.5 * alpha\n",
        "df = min(n1, n2) - 1\n",
        "\n",
        "t0 = t.ppf(1 - alpha + area_one_tail, df)\n",
        "t = (smean1 - smean2) / sqrt(sstd1 ** 2/ n1 + sstd2 ** 2/ n2)\n",
        "\n",
        "print('The rejection regions are: t <', round(-t0, 3), 'and t >', round(t0, 3))\n",
        "print('t:', round(t, 3))"
      ]
    },
    {
      "cell_type": "markdown",
      "metadata": {
        "id": "tuxyqEBlXCQ7"
      },
      "source": [
        "Because $t$ is not in the rejection region, you fail to reject the null hypothesis. "
      ]
    },
    {
      "cell_type": "markdown",
      "metadata": {
        "id": "ZWCyqzWaXCQ7"
      },
      "source": [
        "Fail to reject $H_{0}$"
      ]
    },
    {
      "cell_type": "markdown",
      "metadata": {
        "id": "KXn9DtUQXCQ7"
      },
      "source": [
        "**Interpretation** There is not enough evidence at the 10% level of significance\n",
        "to support the claim that the mean mathematics test scores for the students of\n",
        "the two teachers are different."
      ]
    },
    {
      "cell_type": "markdown",
      "metadata": {
        "id": "kVpBSdarXCQ7"
      },
      "source": [
        "### **Try It Yourself 1**"
      ]
    },
    {
      "cell_type": "markdown",
      "metadata": {
        "id": "Dp3nKBGRXCQ7"
      },
      "source": [
        "The annual earnings of 19 people with a high school diploma and 16 people\n",
        "with an associate’s degree are shown at the left. Can you conclude that there\n",
        "is a difference in the mean annual earnings based on level of education? Use\n",
        "$\\alpha$ = 0.01. Assume the populations are normally distributed and the population\n",
        "variances are not equal."
      ]
    },
    {
      "cell_type": "markdown",
      "metadata": {
        "id": "-d6wTVelXCQ7"
      },
      "source": [
        "#### Solution"
      ]
    },
    {
      "cell_type": "markdown",
      "metadata": {
        "id": "LAMrIGkFXCQ7"
      },
      "source": [
        "**Claim:** \"there is a difference in mean annual earnings\n",
        "based on level of education.\""
      ]
    },
    {
      "cell_type": "markdown",
      "metadata": {
        "id": "mggN_2vAXCQ7"
      },
      "source": [
        "$H_{0}$: $\\mu_{1} = \\mu_{2}$ and $H_{a}$: $\\mu_{1} \\neq \\mu_{2}$. (Claim)"
      ]
    },
    {
      "cell_type": "code",
      "execution_count": null,
      "metadata": {
        "id": "FmfM_Y18XCQ7",
        "outputId": "f58ffe82-03f9-4329-e335-2e9520addf4c"
      },
      "outputs": [
        {
          "name": "stdout",
          "output_type": "stream",
          "text": [
            "The rejection regions are: t < -2.947 and t > 2.947\n",
            "t: -4.954\n"
          ]
        }
      ],
      "source": [
        "from scipy.stats import t\n",
        "from math import sqrt\n",
        "\n",
        "# High school diploma\n",
        "smean1 = 32493\n",
        "sstd1 = 3118\n",
        "n1 = 19\n",
        "\n",
        "# Associate’s degree\n",
        "smean2 = 40907\n",
        "sstd2 = 6162\n",
        "n2 = 16\n",
        "\n",
        "alpha = 0.01\n",
        "area_one_tail = 0.5 * alpha\n",
        "df = min(n1, n2) - 1\n",
        "\n",
        "t0 = t.ppf(1 - alpha + area_one_tail, df)\n",
        "t = (smean1 - smean2) / sqrt(sstd1 ** 2/ n1 + sstd2 ** 2/ n2)\n",
        "\n",
        "print('The rejection regions are: t <', round(-t0, 3), 'and t >', round(t0, 3))\n",
        "print('t:', round(t, 3))"
      ]
    },
    {
      "cell_type": "markdown",
      "metadata": {
        "id": "hPB1y2RPXCQ7"
      },
      "source": [
        "Because $t$ is\n",
        "in the rejection region, you reject the null hypothesis. "
      ]
    },
    {
      "cell_type": "markdown",
      "metadata": {
        "id": "DaYkTcHZXCQ7"
      },
      "source": [
        "Reject $H_{0}$"
      ]
    },
    {
      "cell_type": "markdown",
      "metadata": {
        "id": "c3fR19EBXCQ7"
      },
      "source": [
        "**Interpretation** There is enough evidence at the 1% level of significance\n",
        "to support the claim that there is a difference in the mean\n",
        "annual earnings based on level of education."
      ]
    },
    {
      "cell_type": "markdown",
      "metadata": {
        "id": "dd-apyldXCQ7"
      },
      "source": [
        "### **Example 2**"
      ]
    },
    {
      "cell_type": "markdown",
      "metadata": {
        "id": "H5akGZSKXCQ8"
      },
      "source": [
        "A manufacturer claims that the mean operating cost per mile of its sedans\n",
        "is less than that of its leading competitor. You conduct a study using\n",
        "30 randomly selected sedans from the manufacturer and 32 from the leading\n",
        "competitor. The results are shown at the left. At $\\alpha$ = 0.05, can you support the\n",
        "manufacturer’s claim? Assume the population variances are equal."
      ]
    },
    {
      "cell_type": "markdown",
      "metadata": {
        "id": "k6hX54cSXCQ8"
      },
      "source": [
        "#### Solution"
      ]
    },
    {
      "cell_type": "markdown",
      "metadata": {
        "id": "pZLMY6n0XCQ8"
      },
      "source": [
        "**Claim:** \"The average daily cost of meals and lodging for vacationing in Texas is less than the average daily cost in Virginia\""
      ]
    },
    {
      "cell_type": "markdown",
      "metadata": {
        "id": "kh9q35D7XCQ8"
      },
      "source": [
        "$H_{0}$: $\\mu_{1} \\ge \\mu_{2}$ and $H_{a}$: $\\mu_{1} < \\mu_{2}$. (Claim)"
      ]
    },
    {
      "cell_type": "code",
      "execution_count": null,
      "metadata": {
        "id": "BZ9vruBnXCQ8",
        "outputId": "b168d6e9-22a9-491c-dd6c-c9bd16e79861"
      },
      "outputs": [
        {
          "name": "stdout",
          "output_type": "stream",
          "text": [
            "The rejection region is: t < -1.671\n",
            "t: -1.93\n"
          ]
        }
      ],
      "source": [
        "from scipy.stats import t\n",
        "from math import sqrt\n",
        "\n",
        "# Manufacturer\n",
        "smean1 = 0.52\n",
        "sstd1 = 0.05\n",
        "n1 = 30\n",
        "\n",
        "# Competitor\n",
        "smean2 = 0.55\n",
        "sstd2 = 0.07\n",
        "n2 = 32\n",
        "\n",
        "alpha = 0.05\n",
        "df = n1 + n2 - 2\n",
        "\n",
        "t0 = t.ppf(alpha, df)\n",
        "t = (smean1 - smean2) / (sqrt(((n1 - 1) * sstd1 ** 2 + (n2 -1) * sstd2 ** 2)/ df) * sqrt(1/n1 + 1/n2))\n",
        "\n",
        "print('The rejection region is: t <', round(t0, 3))\n",
        "print('t:', round(t, 3))"
      ]
    },
    {
      "cell_type": "markdown",
      "metadata": {
        "id": "CqUVkJzqXCQ8"
      },
      "source": [
        "Because $t$ is in the rejection region, you reject the null hypothesis. "
      ]
    },
    {
      "cell_type": "markdown",
      "metadata": {
        "id": "4tdCcX1uXCQ8"
      },
      "source": [
        "Reject $H_{0}$"
      ]
    },
    {
      "cell_type": "markdown",
      "metadata": {
        "id": "BjgqiTb7XCQ8"
      },
      "source": [
        "**Interpretation** There is enough evidence at the 5% level of significance to\n",
        "support the manufacturer’s claim that the mean operating cost per mile of its\n",
        "sedans is less than that of its competitor’s."
      ]
    },
    {
      "cell_type": "markdown",
      "metadata": {
        "id": "Hgg6kAp8XCQ8"
      },
      "source": [
        "### **Try It Yourself 2**"
      ]
    },
    {
      "cell_type": "markdown",
      "metadata": {
        "id": "w-DcPjOLXCQ8"
      },
      "source": [
        "A manufacturer claims that the mean operating cost per mile of its minivans\n",
        "is less than that of its leading competitor. You conduct a study using\n",
        "34 randomly selected minivans from the manufacturer and 38 from the leading\n",
        "competitor. The results are shown at the left. At $\\alpha$ = 0.10, can you support the\n",
        "manufacturer’s claim? Assume the population variances are equal."
      ]
    },
    {
      "cell_type": "markdown",
      "metadata": {
        "id": "G0o6GC-VXCQ8"
      },
      "source": [
        "#### Solution"
      ]
    },
    {
      "cell_type": "markdown",
      "metadata": {
        "id": "TLQLJeq9XCQ8"
      },
      "source": [
        "**Claim:** \"the mean operating cost per mile of a\n",
        "manufacturer’s minivans is less than that of its leading\n",
        "competitor.\""
      ]
    },
    {
      "cell_type": "markdown",
      "metadata": {
        "id": "-hwWk4rBXCQ8"
      },
      "source": [
        "$H_{0}$: $\\mu_{1} \\ge \\mu_{2}$ and $H_{a}$: $\\mu_{1} < \\mu_{2}$. (Claim)"
      ]
    },
    {
      "cell_type": "code",
      "execution_count": null,
      "metadata": {
        "id": "9UHKlN-RXCQ8",
        "outputId": "0927d5e3-ebd8-4c61-8047-1be3982477f2"
      },
      "outputs": [
        {
          "name": "stdout",
          "output_type": "stream",
          "text": [
            "The rejection region is: t < -1.294\n",
            "t: -1.131\n"
          ]
        }
      ],
      "source": [
        "from scipy.stats import t\n",
        "from math import sqrt\n",
        "\n",
        "# Manufacturer\n",
        "smean1 = 0.56\n",
        "sstd1 = 0.08\n",
        "n1 = 34\n",
        "\n",
        "# Competitor\n",
        "smean2 = 0.58\n",
        "sstd2 = 0.07\n",
        "n2 = 38\n",
        "\n",
        "alpha = 0.10\n",
        "df = n1 + n2 - 2\n",
        "\n",
        "t0 = t.ppf(alpha, df)\n",
        "t = (smean1 - smean2) / (sqrt(((n1 - 1) * sstd1 ** 2 + (n2 -1) * sstd2 ** 2)/ df) * sqrt(1/n1 + 1/n2))\n",
        "\n",
        "print('The rejection region is: t <', round(t0, 3))\n",
        "print('t:', round(t, 3))"
      ]
    },
    {
      "cell_type": "markdown",
      "metadata": {
        "id": "7ab-suEzXCQ9"
      },
      "source": [
        "Because $t$ is not in the rejection region, you fail to reject the null hypothesis. "
      ]
    },
    {
      "cell_type": "markdown",
      "metadata": {
        "id": "4-q_cKtYXCQ9"
      },
      "source": [
        "Fail to reject $H_{0}$"
      ]
    },
    {
      "cell_type": "markdown",
      "metadata": {
        "id": "rgQtH8ZWXCQ9"
      },
      "source": [
        "**Interpretation** There is not enough evidence at the 10% level of significance\n",
        "to support the manufacturer’s claim that the mean operating\n",
        "cost per mile of its minivans is less than that of its leading\n",
        "competitor."
      ]
    }
  ],
  "metadata": {
    "kernel_info": {
      "name": "py37"
    },
    "kernelspec": {
      "display_name": "Python 3",
      "language": "python",
      "name": "python3"
    },
    "language_info": {
      "codemirror_mode": {
        "name": "ipython",
        "version": 3
      },
      "file_extension": ".py",
      "mimetype": "text/x-python",
      "name": "python",
      "nbconvert_exporter": "python",
      "pygments_lexer": "ipython3",
      "version": "3.6.9"
    },
    "nteract": {
      "version": "0.15.0"
    },
    "colab": {
      "provenance": [],
      "collapsed_sections": [
        "RVgmjZgzXCQ2",
        "XQwF0kmhXCQ2",
        "OPunbVd-XCQ4",
        "d2_wj9j3XCQ4"
      ],
      "include_colab_link": true
    }
  },
  "nbformat": 4,
  "nbformat_minor": 0
}